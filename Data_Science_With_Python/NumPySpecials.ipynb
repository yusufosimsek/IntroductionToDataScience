{
 "cells": [
  {
   "cell_type": "markdown",
   "id": "b893687d-fb28-4b53-875e-4cea88124db8",
   "metadata": {},
   "source": [
    "## NumPy\n",
    "NumPy is a library for data science and we will learn how to use NumPy in this page"
   ]
  },
  {
   "cell_type": "code",
   "execution_count": 1,
   "id": "47a50a58-8c83-490a-832f-8414240ccddb",
   "metadata": {},
   "outputs": [],
   "source": [
    "import numpy as np\n",
    "# We called numpy library.\n",
    "# When we use to numpy library skills, we will call it as \"np\". If we hadn't attituded of the value, we could have called as \"numpy\" everytime."
   ]
  },
  {
   "cell_type": "code",
   "execution_count": 2,
   "id": "161d12a4-c1a9-4212-ba99-0fb762054319",
   "metadata": {},
   "outputs": [
    {
     "data": {
      "text/plain": [
       "list"
      ]
     },
     "execution_count": 2,
     "metadata": {},
     "output_type": "execute_result"
    }
   ],
   "source": [
    "## Arrays\n",
    "# Changing list to numpy array.\n",
    "sampleList = [10, 20, 30]\n",
    "type(sampleList)"
   ]
  },
  {
   "cell_type": "code",
   "execution_count": 3,
   "id": "61fdb630-d129-4386-ab16-6dec6a41ece3",
   "metadata": {},
   "outputs": [
    {
     "data": {
      "text/plain": [
       "array([10, 20, 30])"
      ]
     },
     "execution_count": 3,
     "metadata": {},
     "output_type": "execute_result"
    }
   ],
   "source": [
    "np.array(sampleList)\n",
    "## Changing to array"
   ]
  },
  {
   "cell_type": "code",
   "execution_count": 4,
   "id": "8d1020e4-ef5b-4a7c-85dc-48a91839f6be",
   "metadata": {},
   "outputs": [
    {
     "data": {
      "text/plain": [
       "numpy.ndarray"
      ]
     },
     "execution_count": 4,
     "metadata": {},
     "output_type": "execute_result"
    }
   ],
   "source": [
    "type(np.array(sampleList))"
   ]
  },
  {
   "cell_type": "code",
   "execution_count": 5,
   "id": "027f95ed-7839-4b2d-8fc0-b81a058991ec",
   "metadata": {},
   "outputs": [
    {
     "data": {
      "text/plain": [
       "list"
      ]
     },
     "execution_count": 5,
     "metadata": {},
     "output_type": "execute_result"
    }
   ],
   "source": [
    "## Making Matrix\n",
    "matrixList = [[10, 20, 30], [40, 50, 60], [70, 80, 90]]\n",
    "type(matrixList)"
   ]
  },
  {
   "cell_type": "code",
   "execution_count": 6,
   "id": "efb1f519-b8fc-4789-afbe-1171f12d7662",
   "metadata": {},
   "outputs": [
    {
     "data": {
      "text/plain": [
       "array([[10, 20, 30],\n",
       "       [40, 50, 60],\n",
       "       [70, 80, 90]])"
      ]
     },
     "execution_count": 6,
     "metadata": {},
     "output_type": "execute_result"
    }
   ],
   "source": [
    "np.array(matrixList)"
   ]
  },
  {
   "cell_type": "code",
   "execution_count": 7,
   "id": "8cd29c0c-cc2e-4124-92d3-e04c8b969985",
   "metadata": {},
   "outputs": [
    {
     "data": {
      "text/plain": [
       "numpy.ndarray"
      ]
     },
     "execution_count": 7,
     "metadata": {},
     "output_type": "execute_result"
    }
   ],
   "source": [
    "type(np.array(matrixList))"
   ]
  },
  {
   "cell_type": "code",
   "execution_count": 8,
   "id": "c208c0cb-7c3b-408b-bc17-40a7ad15ed3b",
   "metadata": {},
   "outputs": [
    {
     "data": {
      "text/plain": [
       "array([ 1,  2,  3,  4,  5,  6,  7,  8,  9, 10, 11, 12, 13, 14])"
      ]
     },
     "execution_count": 8,
     "metadata": {},
     "output_type": "execute_result"
    }
   ],
   "source": [
    "## Making directly np array\n",
    "# For that we use \"np.arange(x,y)\" method. These method using is same with \".range(x,y)\" method.\n",
    "\n",
    "np.arange(1, 15)"
   ]
  },
  {
   "cell_type": "code",
   "execution_count": 9,
   "id": "463f246e-c2c5-4eeb-ab4f-d48e27d44e43",
   "metadata": {},
   "outputs": [
    {
     "data": {
      "text/plain": [
       "array([ 1,  3,  5,  7,  9, 11, 13, 15, 17, 19])"
      ]
     },
     "execution_count": 9,
     "metadata": {},
     "output_type": "execute_result"
    }
   ],
   "source": [
    "np.arange(1, 20, 2)"
   ]
  },
  {
   "cell_type": "code",
   "execution_count": 12,
   "id": "1092adde-e4e8-46ff-ae5f-1f5f6c61ef2f",
   "metadata": {},
   "outputs": [
    {
     "data": {
      "text/plain": [
       "array([0., 0., 0., 0., 0.])"
      ]
     },
     "execution_count": 12,
     "metadata": {},
     "output_type": "execute_result"
    }
   ],
   "source": [
    "#zeros and ones: Ensure as how many as say 0 or 1\n",
    "\n",
    "np.zeros(5)"
   ]
  },
  {
   "cell_type": "code",
   "execution_count": 13,
   "id": "2d6e6c6a-b368-4486-907f-ead2d4a11ff1",
   "metadata": {},
   "outputs": [
    {
     "data": {
      "text/plain": [
       "array([1., 1., 1., 1.])"
      ]
     },
     "execution_count": 13,
     "metadata": {},
     "output_type": "execute_result"
    }
   ],
   "source": [
    "np.ones(4)"
   ]
  },
  {
   "cell_type": "code",
   "execution_count": 15,
   "id": "4bab039b-1fd7-4751-925c-a83a38a190b0",
   "metadata": {},
   "outputs": [
    {
     "data": {
      "text/plain": [
       "array([[0., 0., 0., 0., 0., 0., 0., 0.],\n",
       "       [0., 0., 0., 0., 0., 0., 0., 0.],\n",
       "       [0., 0., 0., 0., 0., 0., 0., 0.],\n",
       "       [0., 0., 0., 0., 0., 0., 0., 0.],\n",
       "       [0., 0., 0., 0., 0., 0., 0., 0.],\n",
       "       [0., 0., 0., 0., 0., 0., 0., 0.],\n",
       "       [0., 0., 0., 0., 0., 0., 0., 0.],\n",
       "       [0., 0., 0., 0., 0., 0., 0., 0.],\n",
       "       [0., 0., 0., 0., 0., 0., 0., 0.]])"
      ]
     },
     "execution_count": 15,
     "metadata": {},
     "output_type": "execute_result"
    }
   ],
   "source": [
    "np.zeros((9, 8))\n",
    "#We can ensure a matrix"
   ]
  },
  {
   "cell_type": "code",
   "execution_count": 16,
   "id": "e1423bbd-9e3c-45c9-81a2-7d27f2d9f855",
   "metadata": {},
   "outputs": [
    {
     "data": {
      "text/plain": [
       "array([[1., 1., 1., 1., 1., 1., 1., 1., 1., 1., 1., 1., 1., 1., 1.],\n",
       "       [1., 1., 1., 1., 1., 1., 1., 1., 1., 1., 1., 1., 1., 1., 1.],\n",
       "       [1., 1., 1., 1., 1., 1., 1., 1., 1., 1., 1., 1., 1., 1., 1.],\n",
       "       [1., 1., 1., 1., 1., 1., 1., 1., 1., 1., 1., 1., 1., 1., 1.],\n",
       "       [1., 1., 1., 1., 1., 1., 1., 1., 1., 1., 1., 1., 1., 1., 1.],\n",
       "       [1., 1., 1., 1., 1., 1., 1., 1., 1., 1., 1., 1., 1., 1., 1.],\n",
       "       [1., 1., 1., 1., 1., 1., 1., 1., 1., 1., 1., 1., 1., 1., 1.],\n",
       "       [1., 1., 1., 1., 1., 1., 1., 1., 1., 1., 1., 1., 1., 1., 1.],\n",
       "       [1., 1., 1., 1., 1., 1., 1., 1., 1., 1., 1., 1., 1., 1., 1.],\n",
       "       [1., 1., 1., 1., 1., 1., 1., 1., 1., 1., 1., 1., 1., 1., 1.],\n",
       "       [1., 1., 1., 1., 1., 1., 1., 1., 1., 1., 1., 1., 1., 1., 1.],\n",
       "       [1., 1., 1., 1., 1., 1., 1., 1., 1., 1., 1., 1., 1., 1., 1.],\n",
       "       [1., 1., 1., 1., 1., 1., 1., 1., 1., 1., 1., 1., 1., 1., 1.],\n",
       "       [1., 1., 1., 1., 1., 1., 1., 1., 1., 1., 1., 1., 1., 1., 1.],\n",
       "       [1., 1., 1., 1., 1., 1., 1., 1., 1., 1., 1., 1., 1., 1., 1.]])"
      ]
     },
     "execution_count": 16,
     "metadata": {},
     "output_type": "execute_result"
    }
   ],
   "source": [
    "np.ones((15, 15))"
   ]
  },
  {
   "cell_type": "code",
   "execution_count": 18,
   "id": "3e25d0ef-1f6e-48a4-8ad1-36d67c83f71c",
   "metadata": {},
   "outputs": [
    {
     "data": {
      "text/plain": [
       "array([7.        , 7.14285714, 7.28571429, 7.42857143, 7.57142857,\n",
       "       7.71428571, 7.85714286, 8.        , 8.14285714, 8.28571429,\n",
       "       8.42857143, 8.57142857, 8.71428571, 8.85714286, 9.        ])"
      ]
     },
     "execution_count": 18,
     "metadata": {},
     "output_type": "execute_result"
    }
   ],
   "source": [
    "# .linspace\n",
    "## linspace method ensure an arrange how many range divide.\n",
    "\n",
    "np.linspace(7, 9, 15)\n",
    "## First number is from where to start\n",
    "## Second number is from where to finish\n",
    "## Third number is how many pieces to ensure"
   ]
  },
  {
   "cell_type": "code",
   "execution_count": 21,
   "id": "1e29f82c-14d5-45f7-9aaf-7bd6513a32e2",
   "metadata": {},
   "outputs": [
    {
     "data": {
      "text/plain": [
       "array([[1., 0., 0., 0., 0.],\n",
       "       [0., 1., 0., 0., 0.],\n",
       "       [0., 0., 1., 0., 0.],\n",
       "       [0., 0., 0., 1., 0.],\n",
       "       [0., 0., 0., 0., 1.]])"
      ]
     },
     "execution_count": 21,
     "metadata": {},
     "output_type": "execute_result"
    }
   ],
   "source": [
    "# eye\n",
    "## eye method ensures a diagonel matrix how to ensure just 1 and 0\n",
    "\n",
    "np.eye(5)"
   ]
  },
  {
   "cell_type": "code",
   "execution_count": 22,
   "id": "b0f24827-c8ed-4dcb-830d-550d3711a9a8",
   "metadata": {},
   "outputs": [
    {
     "data": {
      "text/plain": [
       "array([[1., 0.],\n",
       "       [0., 1.],\n",
       "       [0., 0.]])"
      ]
     },
     "execution_count": 22,
     "metadata": {},
     "output_type": "execute_result"
    }
   ],
   "source": [
    "np.eye(3, 2)"
   ]
  },
  {
   "cell_type": "code",
   "execution_count": 29,
   "id": "fe4d088c-7dc7-4f12-833f-5da65c85ebf6",
   "metadata": {},
   "outputs": [
    {
     "data": {
      "text/plain": [
       "array([[0., 0., 0., 1., 0.],\n",
       "       [0., 0., 0., 0., 1.],\n",
       "       [0., 0., 0., 0., 0.],\n",
       "       [0., 0., 0., 0., 0.]])"
      ]
     },
     "execution_count": 29,
     "metadata": {},
     "output_type": "execute_result"
    }
   ],
   "source": [
    "np.eye(4, 5, 3)\n",
    "## First number ensures column wide.\n",
    "## Second number ensures line wide.\n",
    "## Third number ensures ones start from which cell for first line."
   ]
  },
  {
   "cell_type": "code",
   "execution_count": 30,
   "id": "8b47033d-b041-4530-a2a2-77086021773c",
   "metadata": {},
   "outputs": [
    {
     "data": {
      "text/plain": [
       "array([0.2361204 , 0.38810088, 0.04815807, 0.94944091])"
      ]
     },
     "execution_count": 30,
     "metadata": {},
     "output_type": "execute_result"
    }
   ],
   "source": [
    "#RANDOM METHODS\n",
    "\n",
    "#random.randn\n",
    "## Ensures random how many numbers to want.\n",
    "\n",
    "np.random.randn(4)"
   ]
  },
  {
   "cell_type": "code",
   "execution_count": 32,
   "id": "d24741af-7c5e-4818-8611-fa4d96b16d68",
   "metadata": {},
   "outputs": [
    {
     "data": {
      "text/plain": [
       "array([[-1.24090724, -0.01963865],\n",
       "       [ 0.31098406,  1.573018  ],\n",
       "       [ 1.19584885, -0.67731973]])"
      ]
     },
     "execution_count": 32,
     "metadata": {},
     "output_type": "execute_result"
    }
   ],
   "source": [
    "np.random.randn(3, 2)"
   ]
  },
  {
   "cell_type": "code",
   "execution_count": 33,
   "id": "7d9d3613-3998-4c10-9a10-2b098723b8e4",
   "metadata": {},
   "outputs": [
    {
     "data": {
      "text/plain": [
       "array([[[ 0.64760845,  0.89755638],\n",
       "        [ 0.63973272, -0.17309622]],\n",
       "\n",
       "       [[-0.40464191, -1.51104078],\n",
       "        [ 0.50833655, -0.6309191 ]],\n",
       "\n",
       "       [[ 0.14813981,  0.82406599],\n",
       "        [ 1.49951988,  1.59523904]]])"
      ]
     },
     "execution_count": 33,
     "metadata": {},
     "output_type": "execute_result"
    }
   ],
   "source": [
    "np.random.randn(3, 2, 2)"
   ]
  },
  {
   "cell_type": "code",
   "execution_count": 34,
   "id": "e8a50552-fcd6-458e-8c69-bb6aa64126b6",
   "metadata": {},
   "outputs": [
    {
     "data": {
      "text/plain": [
       "array([[[[-0.41668192, -0.5906889 ],\n",
       "         [-0.81930013,  0.85131143]],\n",
       "\n",
       "        [[ 1.01541244, -2.07162351],\n",
       "         [ 1.02047473, -1.14128912]]],\n",
       "\n",
       "\n",
       "       [[[-0.87801258,  0.13935112],\n",
       "         [-1.30268212, -0.39879779]],\n",
       "\n",
       "        [[ 0.22374174, -0.33192106],\n",
       "         [ 1.68495983,  0.43819259]]]])"
      ]
     },
     "execution_count": 34,
     "metadata": {},
     "output_type": "execute_result"
    }
   ],
   "source": [
    "np.random.randn(2, 2, 2, 2)"
   ]
  },
  {
   "cell_type": "code",
   "execution_count": 37,
   "id": "8e78e0ec-a0a2-408e-82ca-b01ea3d8914b",
   "metadata": {},
   "outputs": [
    {
     "data": {
      "text/plain": [
       "1"
      ]
     },
     "execution_count": 37,
     "metadata": {},
     "output_type": "execute_result"
    }
   ],
   "source": [
    "# random.randint\n",
    "## Ensures random a number how which range to want.\n",
    "\n",
    "np.random.randint(5)"
   ]
  },
  {
   "cell_type": "code",
   "execution_count": 38,
   "id": "5255d586-4063-4bab-b0bf-cb17917d1e87",
   "metadata": {},
   "outputs": [
    {
     "data": {
      "text/plain": [
       "7"
      ]
     },
     "execution_count": 38,
     "metadata": {},
     "output_type": "execute_result"
    }
   ],
   "source": [
    "np.random.randint(1, 20)"
   ]
  },
  {
   "cell_type": "code",
   "execution_count": 41,
   "id": "b21aa98d-aaf3-427a-94ea-c52339cf1ea4",
   "metadata": {},
   "outputs": [
    {
     "data": {
      "text/plain": [
       "array([26, 13,  3], dtype=int32)"
      ]
     },
     "execution_count": 41,
     "metadata": {},
     "output_type": "execute_result"
    }
   ],
   "source": [
    "np.random.randint(1, 50, 3)\n",
    "## First one is where to star random number(s).\n",
    "## Second one is where to finish random number(s) except the number.\n",
    "## Third one is which one numbers will write to scream."
   ]
  },
  {
   "cell_type": "code",
   "execution_count": 42,
   "id": "dd13808b-7687-468c-9446-fab62647102e",
   "metadata": {},
   "outputs": [],
   "source": [
    "# NumPy Array Methods\n",
    "\n",
    "## reshape = a list resahpe and ensures a matrix.\n",
    "## max = It shows the biggest value in a list.\n",
    "## min = It shows the smallest value in a list.\n",
    "## argmax = It shows order of the biggest value.\n",
    "## argmin = It shows order of the smallest value.\n",
    "## shape = It shows shape of the list."
   ]
  },
  {
   "cell_type": "code",
   "execution_count": 47,
   "id": "f5c28e14-6b61-4fe4-b646-9b53dadb55bc",
   "metadata": {},
   "outputs": [],
   "source": [
    "a = np.arange(50)"
   ]
  },
  {
   "cell_type": "code",
   "execution_count": 48,
   "id": "cbda925d-d4e0-4a6a-ac2d-660c31456297",
   "metadata": {},
   "outputs": [
    {
     "data": {
      "text/plain": [
       "array([ 0,  1,  2,  3,  4,  5,  6,  7,  8,  9, 10, 11, 12, 13, 14, 15, 16,\n",
       "       17, 18, 19, 20, 21, 22, 23, 24, 25, 26, 27, 28, 29, 30, 31, 32, 33,\n",
       "       34, 35, 36, 37, 38, 39, 40, 41, 42, 43, 44, 45, 46, 47, 48, 49])"
      ]
     },
     "execution_count": 48,
     "metadata": {},
     "output_type": "execute_result"
    }
   ],
   "source": [
    "a"
   ]
  },
  {
   "cell_type": "code",
   "execution_count": 52,
   "id": "89815120-cf77-4538-8986-017fe809c12f",
   "metadata": {},
   "outputs": [
    {
     "data": {
      "text/plain": [
       "array([[ 0,  1,  2,  3,  4],\n",
       "       [ 5,  6,  7,  8,  9],\n",
       "       [10, 11, 12, 13, 14],\n",
       "       [15, 16, 17, 18, 19],\n",
       "       [20, 21, 22, 23, 24],\n",
       "       [25, 26, 27, 28, 29],\n",
       "       [30, 31, 32, 33, 34],\n",
       "       [35, 36, 37, 38, 39],\n",
       "       [40, 41, 42, 43, 44],\n",
       "       [45, 46, 47, 48, 49]])"
      ]
     },
     "execution_count": 52,
     "metadata": {},
     "output_type": "execute_result"
    }
   ],
   "source": [
    "a.reshape(10, 5)\n",
    "## We ensured a matrix but if we had used more than or smaller than a number that 50, we could have gotten an error."
   ]
  },
  {
   "cell_type": "code",
   "execution_count": 54,
   "id": "c7933911-c7ef-42ed-8a26-f9298ba81235",
   "metadata": {},
   "outputs": [
    {
     "data": {
      "text/plain": [
       "np.int64(49)"
      ]
     },
     "execution_count": 54,
     "metadata": {},
     "output_type": "execute_result"
    }
   ],
   "source": [
    "a.max()"
   ]
  },
  {
   "cell_type": "code",
   "execution_count": 55,
   "id": "69a34b03-b773-4cda-ba3c-fa767896daa9",
   "metadata": {},
   "outputs": [
    {
     "data": {
      "text/plain": [
       "np.int64(0)"
      ]
     },
     "execution_count": 55,
     "metadata": {},
     "output_type": "execute_result"
    }
   ],
   "source": [
    "a.min()"
   ]
  },
  {
   "cell_type": "code",
   "execution_count": 56,
   "id": "6ce06690-31b6-4074-8e76-4471a29a0620",
   "metadata": {},
   "outputs": [
    {
     "data": {
      "text/plain": [
       "np.int64(49)"
      ]
     },
     "execution_count": 56,
     "metadata": {},
     "output_type": "execute_result"
    }
   ],
   "source": [
    "a.argmax()"
   ]
  },
  {
   "cell_type": "code",
   "execution_count": 57,
   "id": "da4e3100-1572-4f62-b4fb-ad3a0f6f7f0e",
   "metadata": {},
   "outputs": [
    {
     "data": {
      "text/plain": [
       "np.int64(0)"
      ]
     },
     "execution_count": 57,
     "metadata": {},
     "output_type": "execute_result"
    }
   ],
   "source": [
    "a.argmin()"
   ]
  },
  {
   "cell_type": "code",
   "execution_count": 58,
   "id": "881d9808-04a0-45d8-aae6-6a958b96ec43",
   "metadata": {},
   "outputs": [
    {
     "data": {
      "text/plain": [
       "(50,)"
      ]
     },
     "execution_count": 58,
     "metadata": {},
     "output_type": "execute_result"
    }
   ],
   "source": [
    "a.shape"
   ]
  },
  {
   "cell_type": "code",
   "execution_count": 59,
   "id": "80c68880-a66a-48f0-b91c-f9452836f88a",
   "metadata": {},
   "outputs": [],
   "source": [
    "aa = a.reshape(10, 5)"
   ]
  },
  {
   "cell_type": "code",
   "execution_count": 60,
   "id": "23ae2fae-0caa-47c4-b1b2-94dd5bd00e2a",
   "metadata": {},
   "outputs": [
    {
     "data": {
      "text/plain": [
       "(10, 5)"
      ]
     },
     "execution_count": 60,
     "metadata": {},
     "output_type": "execute_result"
    }
   ],
   "source": [
    "aa.shape"
   ]
  },
  {
   "cell_type": "code",
   "execution_count": 61,
   "id": "7376fb3c-a1b9-4c62-ae50-c3a4bbba683c",
   "metadata": {},
   "outputs": [],
   "source": [
    "## Some Array Exercies"
   ]
  },
  {
   "cell_type": "code",
   "execution_count": 62,
   "id": "7ecc1f6e-6d35-4b89-94e0-f6516c623b53",
   "metadata": {},
   "outputs": [],
   "source": [
    "aList = np.arange(0, 30, 4)"
   ]
  },
  {
   "cell_type": "code",
   "execution_count": 64,
   "id": "82ec0080-7779-431d-b243-8e080b34beb4",
   "metadata": {},
   "outputs": [
    {
     "data": {
      "text/plain": [
       "array([ 0,  4,  8, 12, 16, 20, 24, 28])"
      ]
     },
     "execution_count": 64,
     "metadata": {},
     "output_type": "execute_result"
    }
   ],
   "source": [
    "aList"
   ]
  },
  {
   "cell_type": "code",
   "execution_count": 65,
   "id": "fda02f91-e1e9-4cb2-975f-96324fb43929",
   "metadata": {},
   "outputs": [
    {
     "data": {
      "text/plain": [
       "array([12, 16, 20])"
      ]
     },
     "execution_count": 65,
     "metadata": {},
     "output_type": "execute_result"
    }
   ],
   "source": [
    "aList[3:6]"
   ]
  },
  {
   "cell_type": "code",
   "execution_count": 66,
   "id": "0501daaf-e6f8-4de2-a1a4-aeb54892fd7c",
   "metadata": {},
   "outputs": [],
   "source": [
    "secondList = aList[3:6]"
   ]
  },
  {
   "cell_type": "code",
   "execution_count": 67,
   "id": "07138b17-e84b-4ca7-9f0b-1ec2436a40a2",
   "metadata": {},
   "outputs": [],
   "source": [
    "secondList[:] = 100"
   ]
  },
  {
   "cell_type": "code",
   "execution_count": 68,
   "id": "2d13e2be-1d9e-4a22-aac8-502524157c68",
   "metadata": {},
   "outputs": [
    {
     "data": {
      "text/plain": [
       "array([100, 100, 100])"
      ]
     },
     "execution_count": 68,
     "metadata": {},
     "output_type": "execute_result"
    }
   ],
   "source": [
    "secondList"
   ]
  },
  {
   "cell_type": "code",
   "execution_count": 69,
   "id": "f05f0039-a21a-410c-9c04-4d7906d94310",
   "metadata": {},
   "outputs": [
    {
     "data": {
      "text/plain": [
       "array([  0,   4,   8, 100, 100, 100,  24,  28])"
      ]
     },
     "execution_count": 69,
     "metadata": {},
     "output_type": "execute_result"
    }
   ],
   "source": [
    "aList"
   ]
  },
  {
   "cell_type": "code",
   "execution_count": 70,
   "id": "ab4f3f64-f691-438e-ae20-2916d4416d5d",
   "metadata": {},
   "outputs": [],
   "source": [
    "## If we use this method, our original list values change too. For that we will use copy method."
   ]
  },
  {
   "cell_type": "code",
   "execution_count": 71,
   "id": "da4b8872-29ac-4d0b-8adc-29aaf3849f59",
   "metadata": {},
   "outputs": [],
   "source": [
    "theList = np.arange(0, 20, 2)"
   ]
  },
  {
   "cell_type": "code",
   "execution_count": 72,
   "id": "3b47102a-da28-4021-acb0-e9b942a62bac",
   "metadata": {},
   "outputs": [],
   "source": [
    "theListCopy = theList.copy()"
   ]
  },
  {
   "cell_type": "code",
   "execution_count": 73,
   "id": "c13dc825-dd39-41d5-8c4e-5e55e7153728",
   "metadata": {},
   "outputs": [],
   "source": [
    "slicingList = theListCopy[2:6]"
   ]
  },
  {
   "cell_type": "code",
   "execution_count": 74,
   "id": "f1e416bc-74f3-41a0-a6ef-0b13c249e139",
   "metadata": {},
   "outputs": [],
   "source": [
    "slicingList[:] = 150"
   ]
  },
  {
   "cell_type": "code",
   "execution_count": 75,
   "id": "548be948-4d30-4998-83f9-21bfc9eddafc",
   "metadata": {},
   "outputs": [
    {
     "data": {
      "text/plain": [
       "array([150, 150, 150, 150])"
      ]
     },
     "execution_count": 75,
     "metadata": {},
     "output_type": "execute_result"
    }
   ],
   "source": [
    "slicingList"
   ]
  },
  {
   "cell_type": "code",
   "execution_count": 76,
   "id": "038ae2a6-a44b-4b85-83b7-deadc1612849",
   "metadata": {},
   "outputs": [
    {
     "data": {
      "text/plain": [
       "array([  0,   2, 150, 150, 150, 150,  12,  14,  16,  18])"
      ]
     },
     "execution_count": 76,
     "metadata": {},
     "output_type": "execute_result"
    }
   ],
   "source": [
    "theListCopy"
   ]
  },
  {
   "cell_type": "code",
   "execution_count": 77,
   "id": "fa993f0b-a6d2-4ee6-bc0a-cbd829571dc2",
   "metadata": {},
   "outputs": [
    {
     "data": {
      "text/plain": [
       "array([ 0,  2,  4,  6,  8, 10, 12, 14, 16, 18])"
      ]
     },
     "execution_count": 77,
     "metadata": {},
     "output_type": "execute_result"
    }
   ],
   "source": [
    "theList"
   ]
  },
  {
   "cell_type": "code",
   "execution_count": 78,
   "id": "a762ce61-d4ef-46eb-9e78-a7fb5df70011",
   "metadata": {},
   "outputs": [],
   "source": [
    "## We can save our original list."
   ]
  },
  {
   "cell_type": "code",
   "execution_count": 79,
   "id": "8a3086d5-a287-4eb3-8b7c-d7fc4b7edb38",
   "metadata": {},
   "outputs": [],
   "source": [
    "# Matrix"
   ]
  },
  {
   "cell_type": "code",
   "execution_count": 80,
   "id": "00b64ddf-f126-42ec-b2ea-3d4251f453c5",
   "metadata": {},
   "outputs": [],
   "source": [
    "thisList = [[10, 20, 30], [40, 50, 60], [70, 80, 90]]\n",
    "thisIsAMatrix = np.array(thisList)"
   ]
  },
  {
   "cell_type": "code",
   "execution_count": 81,
   "id": "e731d1b7-1162-4ea7-a2ec-3857b04fcb33",
   "metadata": {},
   "outputs": [
    {
     "data": {
      "text/plain": [
       "array([[10, 20, 30],\n",
       "       [40, 50, 60],\n",
       "       [70, 80, 90]])"
      ]
     },
     "execution_count": 81,
     "metadata": {},
     "output_type": "execute_result"
    }
   ],
   "source": [
    "thisIsAMatrix"
   ]
  },
  {
   "cell_type": "code",
   "execution_count": 82,
   "id": "540509e1-1eaf-4bda-9b0a-fe63366936bb",
   "metadata": {},
   "outputs": [
    {
     "data": {
      "text/plain": [
       "array([10, 20, 30])"
      ]
     },
     "execution_count": 82,
     "metadata": {},
     "output_type": "execute_result"
    }
   ],
   "source": [
    "thisIsAMatrix[0]"
   ]
  },
  {
   "cell_type": "code",
   "execution_count": 84,
   "id": "989c995a-da00-498b-894f-7958d8fcf282",
   "metadata": {},
   "outputs": [
    {
     "data": {
      "text/plain": [
       "np.int64(50)"
      ]
     },
     "execution_count": 84,
     "metadata": {},
     "output_type": "execute_result"
    }
   ],
   "source": [
    "thisIsAMatrix[1][1]"
   ]
  },
  {
   "cell_type": "code",
   "execution_count": 86,
   "id": "22d00e53-82af-47b3-bc47-f8ab40961db1",
   "metadata": {},
   "outputs": [
    {
     "data": {
      "text/plain": [
       "array([60, 90])"
      ]
     },
     "execution_count": 86,
     "metadata": {},
     "output_type": "execute_result"
    }
   ],
   "source": [
    "thisIsAMatrix[1:, 2]"
   ]
  },
  {
   "cell_type": "code",
   "execution_count": 87,
   "id": "033b74ae-35e7-4a0e-a219-eda195e992fd",
   "metadata": {},
   "outputs": [
    {
     "data": {
      "text/plain": [
       "array([[20, 30],\n",
       "       [50, 60],\n",
       "       [80, 90]])"
      ]
     },
     "execution_count": 87,
     "metadata": {},
     "output_type": "execute_result"
    }
   ],
   "source": [
    "thisIsAMatrix[0:, 1:]"
   ]
  },
  {
   "cell_type": "code",
   "execution_count": 88,
   "id": "3f54b239-c505-4a6d-ad0f-243629c0d35d",
   "metadata": {},
   "outputs": [
    {
     "data": {
      "text/plain": [
       "array([[10, 20, 30],\n",
       "       [40, 50, 60]])"
      ]
     },
     "execution_count": 88,
     "metadata": {},
     "output_type": "execute_result"
    }
   ],
   "source": [
    "thisIsAMatrix[[0, 1]]"
   ]
  },
  {
   "cell_type": "code",
   "execution_count": null,
   "id": "7c575eb5-27c1-4247-8231-d9430810236f",
   "metadata": {},
   "outputs": [],
   "source": []
  }
 ],
 "metadata": {
  "kernelspec": {
   "display_name": "Python [conda env:base] *",
   "language": "python",
   "name": "conda-base-py"
  },
  "language_info": {
   "codemirror_mode": {
    "name": "ipython",
    "version": 3
   },
   "file_extension": ".py",
   "mimetype": "text/x-python",
   "name": "python",
   "nbconvert_exporter": "python",
   "pygments_lexer": "ipython3",
   "version": "3.13.5"
  }
 },
 "nbformat": 4,
 "nbformat_minor": 5
}
